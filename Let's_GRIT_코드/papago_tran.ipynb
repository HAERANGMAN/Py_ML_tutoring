{
 "cells": [
  {
   "cell_type": "code",
   "execution_count": 180,
   "metadata": {},
   "outputs": [],
   "source": [
    "import pandas as pd"
   ]
  },
  {
   "cell_type": "markdown",
   "metadata": {},
   "source": [
    "# 번역할 파일 정제"
   ]
  },
  {
   "cell_type": "code",
   "execution_count": 187,
   "metadata": {},
   "outputs": [
    {
     "data": {
      "text/html": [
       "<div>\n",
       "<style scoped>\n",
       "    .dataframe tbody tr th:only-of-type {\n",
       "        vertical-align: middle;\n",
       "    }\n",
       "\n",
       "    .dataframe tbody tr th {\n",
       "        vertical-align: top;\n",
       "    }\n",
       "\n",
       "    .dataframe thead th {\n",
       "        text-align: right;\n",
       "    }\n",
       "</style>\n",
       "<table border=\"1\" class=\"dataframe\">\n",
       "  <thead>\n",
       "    <tr style=\"text-align: right;\">\n",
       "      <th></th>\n",
       "      <th>전체날짜</th>\n",
       "      <th>종목명</th>\n",
       "      <th>전체</th>\n",
       "    </tr>\n",
       "  </thead>\n",
       "  <tbody>\n",
       "    <tr>\n",
       "      <th>0</th>\n",
       "      <td>2022.06.01 05:23</td>\n",
       "      <td>카카오</td>\n",
       "      <td>이시간에 KAKAO메인이 조선이 싹쓸이하네...메인 7개 뉴스중에 5개가 조선1개가...</td>\n",
       "    </tr>\n",
       "    <tr>\n",
       "      <th>1</th>\n",
       "      <td>2022.06.01 08:44</td>\n",
       "      <td>카카오</td>\n",
       "      <td>돈은 많이 받으면서근무시간에 오디오라인 열어놓는게 불만이라니\\n그냥 집에서 누워서 ...</td>\n",
       "    </tr>\n",
       "    <tr>\n",
       "      <th>2</th>\n",
       "      <td>2022.06.01 08:59</td>\n",
       "      <td>카카오</td>\n",
       "      <td>유영두 할아버지 넘 실망이에요~~^^토른방에 남겨진 유영두 할아버지에 대한 댓글 입...</td>\n",
       "    </tr>\n",
       "    <tr>\n",
       "      <th>3</th>\n",
       "      <td>2022.06.01 09:29</td>\n",
       "      <td>카카오</td>\n",
       "      <td>빡빡이 하는짓 보면 모르나김범수가 일궈낸 자리 편하게 앉아서 메타버스 빌미로 날로 ...</td>\n",
       "    </tr>\n",
       "    <tr>\n",
       "      <th>4</th>\n",
       "      <td>2022.06.01 09:37</td>\n",
       "      <td>카카오</td>\n",
       "      <td>한오백년 전쟁하자는 미필 양키괴뢰!!!우리는 원래 하나였으나, 미,소에 의해 강제로...</td>\n",
       "    </tr>\n",
       "    <tr>\n",
       "      <th>...</th>\n",
       "      <td>...</td>\n",
       "      <td>...</td>\n",
       "      <td>...</td>\n",
       "    </tr>\n",
       "    <tr>\n",
       "      <th>6615</th>\n",
       "      <td>2022.06.30 23:31</td>\n",
       "      <td>카카오</td>\n",
       "      <td>이거보고 윤석열이 왕따라고 생각하면https://youtu.be/C2-HTUyE6Y...</td>\n",
       "    </tr>\n",
       "    <tr>\n",
       "      <th>6616</th>\n",
       "      <td>2022.06.30 23:34</td>\n",
       "      <td>카카오</td>\n",
       "      <td>잠이 안온다내일 인버스에 얼마나 꽂힐지..돈복사</td>\n",
       "    </tr>\n",
       "    <tr>\n",
       "      <th>6617</th>\n",
       "      <td>2022.06.30 23:40</td>\n",
       "      <td>카카오</td>\n",
       "      <td>이거 액분전에 평균얼마엿어요궁금합니다</td>\n",
       "    </tr>\n",
       "    <tr>\n",
       "      <th>6618</th>\n",
       "      <td>2022.06.30 23:52</td>\n",
       "      <td>카카오</td>\n",
       "      <td>나스닥 7천간다.\\n\\nKAKAO는 3만 간다.\\n\\nㅋㅋ</td>\n",
       "    </tr>\n",
       "    <tr>\n",
       "      <th>6619</th>\n",
       "      <td>2022.06.30 23:54</td>\n",
       "      <td>카카오</td>\n",
       "      <td>KAKAO 계열사이 쉐리들은 왜 배당을 안줌? 생각할수록 아주 괘씸하네</td>\n",
       "    </tr>\n",
       "  </tbody>\n",
       "</table>\n",
       "<p>6620 rows × 3 columns</p>\n",
       "</div>"
      ],
      "text/plain": [
       "                  전체날짜  종목명                                                 전체\n",
       "0     2022.06.01 05:23  카카오  이시간에 KAKAO메인이 조선이 싹쓸이하네...메인 7개 뉴스중에 5개가 조선1개가...\n",
       "1     2022.06.01 08:44  카카오  돈은 많이 받으면서근무시간에 오디오라인 열어놓는게 불만이라니\\n그냥 집에서 누워서 ...\n",
       "2     2022.06.01 08:59  카카오  유영두 할아버지 넘 실망이에요~~^^토른방에 남겨진 유영두 할아버지에 대한 댓글 입...\n",
       "3     2022.06.01 09:29  카카오  빡빡이 하는짓 보면 모르나김범수가 일궈낸 자리 편하게 앉아서 메타버스 빌미로 날로 ...\n",
       "4     2022.06.01 09:37  카카오  한오백년 전쟁하자는 미필 양키괴뢰!!!우리는 원래 하나였으나, 미,소에 의해 강제로...\n",
       "...                ...  ...                                                ...\n",
       "6615  2022.06.30 23:31  카카오  이거보고 윤석열이 왕따라고 생각하면https://youtu.be/C2-HTUyE6Y...\n",
       "6616  2022.06.30 23:34  카카오                         잠이 안온다내일 인버스에 얼마나 꽂힐지..돈복사\n",
       "6617  2022.06.30 23:40  카카오                               이거 액분전에 평균얼마엿어요궁금합니다\n",
       "6618  2022.06.30 23:52  카카오                   나스닥 7천간다.\\n\\nKAKAO는 3만 간다.\\n\\nㅋㅋ\n",
       "6619  2022.06.30 23:54  카카오            KAKAO 계열사이 쉐리들은 왜 배당을 안줌? 생각할수록 아주 괘씸하네\n",
       "\n",
       "[6620 rows x 3 columns]"
      ]
     },
     "execution_count": 187,
     "metadata": {},
     "output_type": "execute_result"
    }
   ],
   "source": [
    "# 번역할 파일 불러오기\n",
    "papago = pd.read_csv('C:/PYTHON/G_ML/해커톤/data/카카오(kor).csv')\n",
    "papago"
   ]
  },
  {
   "cell_type": "code",
   "execution_count": 188,
   "metadata": {},
   "outputs": [
    {
     "data": {
      "text/plain": [
       "전체날짜    0\n",
       "종목명     0\n",
       "전체      0\n",
       "dtype: int64"
      ]
     },
     "execution_count": 188,
     "metadata": {},
     "output_type": "execute_result"
    }
   ],
   "source": [
    "papago.isna().sum() # 결측치 확인"
   ]
  },
  {
   "cell_type": "code",
   "execution_count": 189,
   "metadata": {},
   "outputs": [
    {
     "data": {
      "text/plain": [
       "0       이시간에 KAKAO메인이 조선이 싹쓸이하네...메인 7개 뉴스중에 5개가 조선1개가...\n",
       "1       돈은 많이 받으면서근무시간에 오디오라인 열어놓는게 불만이라니\\n그냥 집에서 누워서 ...\n",
       "2       유영두 할아버지 넘 실망이에요~~^^토른방에 남겨진 유영두 할아버지에 대한 댓글 입...\n",
       "3       빡빡이 하는짓 보면 모르나김범수가 일궈낸 자리 편하게 앉아서 메타버스 빌미로 날로 ...\n",
       "4       한오백년 전쟁하자는 미필 양키괴뢰!!!우리는 원래 하나였으나, 미,소에 의해 강제로...\n",
       "                              ...                        \n",
       "6615    이거보고 윤석열이 왕따라고 생각하면https://youtu.be/C2-HTUyE6Y...\n",
       "6616                           잠이 안온다내일 인버스에 얼마나 꽂힐지..돈복사\n",
       "6617                                 이거 액분전에 평균얼마엿어요궁금합니다\n",
       "6618                     나스닥 7천간다.\\n\\nKAKAO는 3만 간다.\\n\\nㅋㅋ\n",
       "6619              KAKAO 계열사이 쉐리들은 왜 배당을 안줌? 생각할수록 아주 괘씸하네\n",
       "Name: 전체, Length: 6620, dtype: object"
      ]
     },
     "execution_count": 189,
     "metadata": {},
     "output_type": "execute_result"
    }
   ],
   "source": [
    "# 번역할 데이터\n",
    "a = papago['전체']\n",
    "a"
   ]
  },
  {
   "cell_type": "code",
   "execution_count": null,
   "metadata": {},
   "outputs": [],
   "source": []
  },
  {
   "cell_type": "markdown",
   "metadata": {},
   "source": [
    "# [ 파파고 번역1 ] : openAPI로 csv파일 번역"
   ]
  },
  {
   "cell_type": "code",
   "execution_count": 239,
   "metadata": {},
   "outputs": [
    {
     "name": "stdout",
     "output_type": "stream",
     "text": [
      "At this time, KAKAO's main dish is being swept away by Joseon.Out of the 7 main news, 5 of them are Chosun.\n",
      "I get paid a lot, but I don't like to keep the audio line open during work hours.\n",
      "2. I'm so disappointed^^ Comments about grandfather Yoo Young-doo left in Thor's room...\n",
      "You may not know if I'm shaved, but I'll sit comfortably in the seat that Kim Bum Soo created and use it as an excuse for metaverse.\n",
      "Four hundred-year-old Yankee bullies!We were originally one, but forced by Mi and So...\n",
      "                              ...                        \n",
      "6615 If you think Yoon Seokyeol is an outcast, https://youtu.be/C2-HTUyE6Y...\n",
      "6616, I can't sleepI don't know how much I'll be hooked on the Inverse tomorrow.money copy\n",
      "6617, how much was the average before the liquid level?I'm curious.\n",
      "6618 NASDAQ: Seven thousand.\\n\\nKAO goes to 30,000.\\n\\nLOL\n",
      "Why don't the 6619 KAKAO affiliates pay dividends? The more I think about it, the more disgusting it is\n",
      "Name: overall, Length: 6620, dtype: object\n"
     ]
    }
   ],
   "source": [
    "import os\n",
    "import sys\n",
    "import json\n",
    "import urllib.request\n",
    "\n",
    "\n",
    "url = 'https://openapi.naver.com/v1/papago/n2mt'\n",
    "client_id = 'qRRDuul_fIUg_jytEypx'\n",
    "client_secret = 'eMUZEK5G_1'\n",
    "\n",
    "text = a\n",
    "afterTranslate = []\n",
    "# Papago API 를 사용할 때는 google 번역 API와 다르게 원본 언어와 타겟 언어를 반드시 지정을 해야합니다\n",
    "source = 'ko'\n",
    "target = 'en'\n",
    "\n",
    "encText = urllib.parse.quote(str(a))\n",
    "data = f'source={source}&target={target}&text=' + encText\n",
    "request = urllib.request.Request(url)\n",
    "request.add_header(\"X-Naver-Client-Id\", client_id)\n",
    "request.add_header(\"X-Naver-Client-Secret\", client_secret)\n",
    "response = urllib.request.urlopen(request, data=data.encode(\"utf-8\"))\n",
    "rescode = response.getcode()\n",
    "\n",
    "if (rescode == 200):\n",
    "    response_body = response.read()\n",
    "    decode = json.loads(response_body.decode('utf-8'))\n",
    "    # print(decode)\n",
    "    result = decode['message']['result']['translatedText']\n",
    "    print(result)\n",
    "else:\n",
    "\n",
    "    print(\"Error Code:\" + rescode)\n"
   ]
  },
  {
   "cell_type": "code",
   "execution_count": 263,
   "metadata": {},
   "outputs": [
    {
     "data": {
      "text/html": [
       "<div>\n",
       "<style scoped>\n",
       "    .dataframe tbody tr th:only-of-type {\n",
       "        vertical-align: middle;\n",
       "    }\n",
       "\n",
       "    .dataframe tbody tr th {\n",
       "        vertical-align: top;\n",
       "    }\n",
       "\n",
       "    .dataframe thead th {\n",
       "        text-align: right;\n",
       "    }\n",
       "</style>\n",
       "<table border=\"1\" class=\"dataframe\">\n",
       "  <thead>\n",
       "    <tr style=\"text-align: right;\">\n",
       "      <th></th>\n",
       "      <th>1</th>\n",
       "    </tr>\n",
       "  </thead>\n",
       "  <tbody>\n",
       "    <tr>\n",
       "      <th>0</th>\n",
       "      <td>At this time, KAKAO's main dish is being swept...</td>\n",
       "    </tr>\n",
       "  </tbody>\n",
       "</table>\n",
       "</div>"
      ],
      "text/plain": [
       "                                                   1\n",
       "0  At this time, KAKAO's main dish is being swept..."
      ]
     },
     "execution_count": 263,
     "metadata": {},
     "output_type": "execute_result"
    }
   ],
   "source": [
    "df1 = pd.DataFrame(data = [result], columns=['1'] ,index=[0])\n",
    "df1"
   ]
  },
  {
   "cell_type": "markdown",
   "metadata": {},
   "source": [
    "## 문제점1\n",
    "> 번역기 코드를 돌린 결과, 종토방(영어ver) 글들이 하나로 합쳐진 채로 값이 나옴  \n",
    "\n",
    "    ---> 해결방법 1: 어떤 값(예: \" or ' or \\n)을 기준으로 분할 -> but 명확한 기준이 되는 값이 없음"
   ]
  },
  {
   "cell_type": "markdown",
   "metadata": {},
   "source": [
    " ### - 엔터 기준으로 분할\n"
   ]
  },
  {
   "cell_type": "code",
   "execution_count": 249,
   "metadata": {},
   "outputs": [
    {
     "data": {
      "text/plain": [
       "[\"At this time, KAKAO's main dish is being swept away by Joseon.Out of the 7 main news, 5 of them are Chosun.\",\n",
       " \"I get paid a lot, but I don't like to keep the audio line open during work hours.\",\n",
       " \"2. I'm so disappointed^^ Comments about grandfather Yoo Young-doo left in Thor's room...\",\n",
       " \"You may not know if I'm shaved, but I'll sit comfortably in the seat that Kim Bum Soo created and use it as an excuse for metaverse.\",\n",
       " 'Four hundred-year-old Yankee bullies!We were originally one, but forced by Mi and So...',\n",
       " '                              ...                        ',\n",
       " '6615 If you think Yoon Seokyeol is an outcast, https://youtu.be/C2-HTUyE6Y...',\n",
       " \"6616, I can't sleepI don't know how much I'll be hooked on the Inverse tomorrow.money copy\",\n",
       " \"6617, how much was the average before the liquid level?I'm curious.\",\n",
       " '6618 NASDAQ: Seven thousand.\\\\n\\\\nKAO goes to 30,000.\\\\n\\\\nLOL',\n",
       " \"Why don't the 6619 KAKAO affiliates pay dividends? The more I think about it, the more disgusting it is\",\n",
       " 'Name: overall, Length: 6620, dtype: object']"
      ]
     },
     "execution_count": 249,
     "metadata": {},
     "output_type": "execute_result"
    }
   ],
   "source": [
    "aa = result.split(\"\\n\")\n",
    "aa"
   ]
  },
  {
   "cell_type": "code",
   "execution_count": 275,
   "metadata": {},
   "outputs": [
    {
     "data": {
      "text/plain": [
       "12"
      ]
     },
     "execution_count": 275,
     "metadata": {},
     "output_type": "execute_result"
    }
   ],
   "source": [
    "len(aa)"
   ]
  },
  {
   "cell_type": "markdown",
   "metadata": {},
   "source": [
    "### - \" 기준으로 분할"
   ]
  },
  {
   "cell_type": "code",
   "execution_count": 274,
   "metadata": {},
   "outputs": [
    {
     "data": {
      "text/plain": [
       "[\"At this time, KAKAO's main dish is being swept away by Joseon.Out of the 7 main news, 5 of them are Chosun.\\nI get paid a lot, but I don't like to keep the audio line open during work hours.\\n2. I'm so disappointed^^ Comments about grandfather Yoo Young-doo left in Thor's room...\\nYou may not know if I'm shaved, but I'll sit comfortably in the seat that Kim Bum Soo created and use it as an excuse for metaverse.\\nFour hundred-year-old Yankee bullies!We were originally one, but forced by Mi and So...\\n                              ...                        \\n6615 If you think Yoon Seokyeol is an outcast, https://youtu.be/C2-HTUyE6Y...\\n6616, I can't sleepI don't know how much I'll be hooked on the Inverse tomorrow.money copy\\n6617, how much was the average before the liquid level?I'm curious.\\n6618 NASDAQ: Seven thousand.\\\\n\\\\nKAO goes to 30,000.\\\\n\\\\nLOL\\nWhy don't the 6619 KAKAO affiliates pay dividends? The more I think about it, the more disgusting it is\\nName: overall, Length: 6620, dtype: object\"]"
      ]
     },
     "execution_count": 274,
     "metadata": {},
     "output_type": "execute_result"
    }
   ],
   "source": [
    "bb = result.split('\"')\n",
    "bb"
   ]
  },
  {
   "cell_type": "code",
   "execution_count": 276,
   "metadata": {},
   "outputs": [
    {
     "data": {
      "text/plain": [
       "1"
      ]
     },
     "execution_count": 276,
     "metadata": {},
     "output_type": "execute_result"
    }
   ],
   "source": [
    "len(bb)"
   ]
  },
  {
   "cell_type": "markdown",
   "metadata": {},
   "source": [
    "### - ' 기준으로 분할"
   ]
  },
  {
   "cell_type": "code",
   "execution_count": 277,
   "metadata": {},
   "outputs": [
    {
     "data": {
      "text/plain": [
       "['At this time, KAKAO',\n",
       " 's main dish is being swept away by Joseon.Out of the 7 main news, 5 of them are Chosun.\\nI get paid a lot, but I don',\n",
       " 't like to keep the audio line open during work hours.\\n2. I',\n",
       " 'm so disappointed^^ Comments about grandfather Yoo Young-doo left in Thor',\n",
       " 's room...\\nYou may not know if I',\n",
       " 'm shaved, but I',\n",
       " 'll sit comfortably in the seat that Kim Bum Soo created and use it as an excuse for metaverse.\\nFour hundred-year-old Yankee bullies!We were originally one, but forced by Mi and So...\\n                              ...                        \\n6615 If you think Yoon Seokyeol is an outcast, https://youtu.be/C2-HTUyE6Y...\\n6616, I can',\n",
       " 't sleepI don',\n",
       " 't know how much I',\n",
       " 'll be hooked on the Inverse tomorrow.money copy\\n6617, how much was the average before the liquid level?I',\n",
       " 'm curious.\\n6618 NASDAQ: Seven thousand.\\\\n\\\\nKAO goes to 30,000.\\\\n\\\\nLOL\\nWhy don',\n",
       " 't the 6619 KAKAO affiliates pay dividends? The more I think about it, the more disgusting it is\\nName: overall, Length: 6620, dtype: object']"
      ]
     },
     "execution_count": 277,
     "metadata": {},
     "output_type": "execute_result"
    }
   ],
   "source": [
    "cc = result.split(\"'\")\n",
    "cc"
   ]
  },
  {
   "cell_type": "code",
   "execution_count": 279,
   "metadata": {},
   "outputs": [
    {
     "data": {
      "text/plain": [
       "12"
      ]
     },
     "execution_count": 279,
     "metadata": {},
     "output_type": "execute_result"
    }
   ],
   "source": [
    "len(cc)"
   ]
  },
  {
   "cell_type": "code",
   "execution_count": 244,
   "metadata": {},
   "outputs": [
    {
     "data": {
      "text/plain": [
       "12"
      ]
     },
     "execution_count": 244,
     "metadata": {},
     "output_type": "execute_result"
    }
   ],
   "source": [
    "len(aa)"
   ]
  },
  {
   "cell_type": "markdown",
   "metadata": {},
   "source": [
    "### - 엔터, \", ' 기준으로 분할"
   ]
  },
  {
   "cell_type": "code",
   "execution_count": 280,
   "metadata": {},
   "outputs": [
    {
     "data": {
      "text/plain": [
       "[\"At this time KAKAO's main dish is being swept away by Joseon\",\n",
       " 'Out of the 7 main news 5 of them are Chosun',\n",
       " \"I get paid a lot but I don't like to keep the audio line open during work hours\",\n",
       " '2',\n",
       " \"I'm so disappointed^^ Comments about grandfather Yoo Young-doo left in Thor's room\",\n",
       " \"You may not know if I'm shaved but I'll sit comfortably in the seat that Kim Bum Soo created and use it as an excuse for metaverse\",\n",
       " 'Four hundred-year-old Yankee bullies!We were originally one but forced by Mi and So',\n",
       " '6615 If you think Yoon Seokyeol is an outcast https://youtu',\n",
       " 'be/C2-HTUyE6Y',\n",
       " \"6616 I can't sleepI don't know how much I'll be hooked on the Inverse tomorrow\",\n",
       " \"money copy6617 how much was the average before the liquid level?I'm curious\",\n",
       " '6618 NASDAQ: Seven thousand',\n",
       " '\\\\n\\\\nKAO goes to 30000',\n",
       " \"\\\\n\\\\nLOLWhy don't the 6619 KAKAO affiliates pay dividends? The more I think about it the more disgusting it isName: overall Length: 6620 dtype: object\"]"
      ]
     },
     "execution_count": 280,
     "metadata": {},
     "output_type": "execute_result"
    }
   ],
   "source": [
    "type(result)\n",
    "_result = []\n",
    "for s in result.split('.'):\n",
    "    s = s.replace('\\n', '').replace(',','').replace('\"','').strip()\n",
    "    if(len(s) != 0):\n",
    "        _result.append(s)\n",
    "_result"
   ]
  },
  {
   "cell_type": "code",
   "execution_count": 281,
   "metadata": {},
   "outputs": [
    {
     "data": {
      "text/plain": [
       "14"
      ]
     },
     "execution_count": 281,
     "metadata": {},
     "output_type": "execute_result"
    }
   ],
   "source": [
    "len(_result)"
   ]
  },
  {
   "cell_type": "markdown",
   "metadata": {},
   "source": [
    "    > 문제점1 결론: 기준을 잡고 데이터를 분할해도 6620개로 분할 안됨"
   ]
  },
  {
   "cell_type": "code",
   "execution_count": null,
   "metadata": {},
   "outputs": [],
   "source": []
  },
  {
   "cell_type": "markdown",
   "metadata": {},
   "source": [
    "# [ 파파고 번역2 ] : pypapago라이브러리 이용"
   ]
  },
  {
   "cell_type": "code",
   "execution_count": 282,
   "metadata": {},
   "outputs": [
    {
     "ename": "KeyError",
     "evalue": "'translatedText'",
     "output_type": "error",
     "traceback": [
      "\u001b[1;31m---------------------------------------------------------------------------\u001b[0m",
      "\u001b[1;31mKeyError\u001b[0m                                  Traceback (most recent call last)",
      "\u001b[1;32m<ipython-input-282-5b49495f4788>\u001b[0m in \u001b[0;36m<module>\u001b[1;34m\u001b[0m\n\u001b[0;32m     30\u001b[0m \u001b[1;31m# 리스트 내 영어 자료들 번역하기\u001b[0m\u001b[1;33m\u001b[0m\u001b[1;33m\u001b[0m\u001b[1;33m\u001b[0m\u001b[0m\n\u001b[0;32m     31\u001b[0m \u001b[1;32mfor\u001b[0m \u001b[0mi\u001b[0m \u001b[1;32min\u001b[0m \u001b[0mrange\u001b[0m\u001b[1;33m(\u001b[0m\u001b[0mlen\u001b[0m\u001b[1;33m(\u001b[0m\u001b[0mtemplist\u001b[0m\u001b[1;33m)\u001b[0m\u001b[1;33m)\u001b[0m\u001b[1;33m:\u001b[0m\u001b[1;33m\u001b[0m\u001b[1;33m\u001b[0m\u001b[0m\n\u001b[1;32m---> 32\u001b[1;33m     \u001b[0mresult\u001b[0m \u001b[1;33m=\u001b[0m \u001b[0mtranslator\u001b[0m\u001b[1;33m.\u001b[0m\u001b[0mtranslate\u001b[0m\u001b[1;33m(\u001b[0m\u001b[0mtemplist\u001b[0m\u001b[1;33m[\u001b[0m\u001b[0mi\u001b[0m\u001b[1;33m]\u001b[0m\u001b[1;33m,\u001b[0m \u001b[0msource\u001b[0m\u001b[1;33m=\u001b[0m\u001b[1;34m'ko'\u001b[0m\u001b[1;33m,\u001b[0m \u001b[0mtarget\u001b[0m\u001b[1;33m=\u001b[0m\u001b[1;34m'en'\u001b[0m\u001b[1;33m,\u001b[0m \u001b[0mverbose\u001b[0m\u001b[1;33m=\u001b[0m\u001b[1;32mFalse\u001b[0m\u001b[1;33m)\u001b[0m\u001b[1;33m\u001b[0m\u001b[1;33m\u001b[0m\u001b[0m\n\u001b[0m\u001b[0;32m     33\u001b[0m     \u001b[0mafterTranslate\u001b[0m\u001b[1;33m.\u001b[0m\u001b[0mappend\u001b[0m\u001b[1;33m(\u001b[0m\u001b[0mresult\u001b[0m\u001b[1;33m)\u001b[0m\u001b[1;33m\u001b[0m\u001b[1;33m\u001b[0m\u001b[0m\n\u001b[0;32m     34\u001b[0m \u001b[1;33m\u001b[0m\u001b[0m\n",
      "\u001b[1;32mc:\\Users\\subin\\Anaconda3\\lib\\site-packages\\pypapago\\translator.py\u001b[0m in \u001b[0;36mtranslate\u001b[1;34m(self, query, source, target, verbose)\u001b[0m\n\u001b[0;32m     58\u001b[0m         \u001b[0mresponse\u001b[0m \u001b[1;33m=\u001b[0m \u001b[0mrequests\u001b[0m\u001b[1;33m.\u001b[0m\u001b[0mpost\u001b[0m\u001b[1;33m(\u001b[0m\u001b[1;34m'https://papago.naver.com/apis/n2mt/translate'\u001b[0m\u001b[1;33m,\u001b[0m \u001b[0mheaders\u001b[0m\u001b[1;33m=\u001b[0m\u001b[0mself\u001b[0m\u001b[1;33m.\u001b[0m\u001b[0mheaders\u001b[0m\u001b[1;33m,\u001b[0m \u001b[0mdata\u001b[0m\u001b[1;33m=\u001b[0m\u001b[0mdata\u001b[0m\u001b[1;33m)\u001b[0m\u001b[1;33m\u001b[0m\u001b[1;33m\u001b[0m\u001b[0m\n\u001b[0;32m     59\u001b[0m         \u001b[1;31m# https://openapi.naver.com/v1/papago/n2mt\u001b[0m\u001b[1;33m\u001b[0m\u001b[1;33m\u001b[0m\u001b[1;33m\u001b[0m\u001b[0m\n\u001b[1;32m---> 60\u001b[1;33m         \u001b[1;31m# https://papago.naver.com/\u001b[0m\u001b[1;33m\u001b[0m\u001b[1;33m\u001b[0m\u001b[1;33m\u001b[0m\u001b[0m\n\u001b[0m\u001b[0;32m     61\u001b[0m         \u001b[1;32mif\u001b[0m \u001b[1;32mnot\u001b[0m \u001b[0mverbose\u001b[0m\u001b[1;33m:\u001b[0m\u001b[1;33m\u001b[0m\u001b[1;33m\u001b[0m\u001b[0m\n\u001b[0;32m     62\u001b[0m             \u001b[1;32mif\u001b[0m \u001b[1;34m'translatedText'\u001b[0m \u001b[1;32min\u001b[0m \u001b[0mresponse\u001b[0m\u001b[1;33m.\u001b[0m\u001b[0mjson\u001b[0m\u001b[1;33m(\u001b[0m\u001b[1;33m)\u001b[0m\u001b[1;33m:\u001b[0m\u001b[1;33m\u001b[0m\u001b[1;33m\u001b[0m\u001b[0m\n",
      "\u001b[1;31mKeyError\u001b[0m: 'translatedText'"
     ]
    }
   ],
   "source": [
    "from pypapago import Translator\n",
    "\n",
    "# 번역할 파일명\n",
    "fileName = 'C:/PYTHON/G_ML/해커톤/data/text.txt'\n",
    "\n",
    "# 사용할 전역변수\n",
    "templist = []\n",
    "afterTranslate = []\n",
    "\n",
    "# 객체 할당\n",
    "translator = Translator()\n",
    "\n",
    "# 파일 읽기모드, 줄을 읽고 \\n를 제거하여 번역하기\n",
    "with open(fileName, 'rt', encoding='UTF8') as f:\n",
    "    lines = f.readlines()\n",
    "    for line in lines:\n",
    "        # '\\n'엔터키''가 있을 때 교체하여 추가, 그 외 그냥 추가\n",
    "        if '\\n' in line:\n",
    "            line = line.replace('\\n', '`')\n",
    "            templist.append(line)\n",
    "        else:\n",
    "            templist.append(line)\n",
    "\n",
    "        # 문자열이 비어있는 리스트는 삭제\n",
    "        try:\n",
    "            templist.remove('')\n",
    "        except:\n",
    "            pass  \n",
    "\n",
    "# 리스트 내 영어 자료들 번역하기\n",
    "for i in range(len(templist)):\n",
    "    result = translator.translate(templist[i], source='ko', target='en', verbose=False)\n",
    "    afterTranslate.append(result)\n",
    "\n",
    "# 초기 리스트값, 바꾼 후, 번역 후(출력테스트)\n",
    "print(lines)\n",
    "print(templist)\n",
    "print(afterTranslate)\n",
    "\n",
    "\n",
    "# 번역 후 text파일 만듦.\n",
    "with open(fileName + '_translated.txt', 'w',encoding='utf8') as f:\n",
    "    for i in range(len(afterTranslate)):\n",
    "        data = afterTranslate[i] + '\\n'\n",
    "        f.write(data)\n",
    "# 출처: https://ansan-survivor.tistory.com/78?category=368248 [안산드레아스:티스토리]"
   ]
  },
  {
   "cell_type": "markdown",
   "metadata": {},
   "source": [
    "## 문제점2\n",
    "> KeyError: 'translatedText' 를 구글링 하고 코드를 수정해도 계속 에러 발생  \n",
    "\n",
    "    ---> 포기"
   ]
  },
  {
   "cell_type": "code",
   "execution_count": null,
   "metadata": {},
   "outputs": [],
   "source": []
  },
  {
   "cell_type": "markdown",
   "metadata": {},
   "source": [
    "# [파파고 번역2] : openAPI로 tet파일 번역"
   ]
  },
  {
   "cell_type": "code",
   "execution_count": 113,
   "metadata": {},
   "outputs": [
    {
     "ename": "HTTPError",
     "evalue": "HTTP Error 400: Bad Request",
     "output_type": "error",
     "traceback": [
      "\u001b[1;31m---------------------------------------------------------------------------\u001b[0m",
      "\u001b[1;31mHTTPError\u001b[0m                                 Traceback (most recent call last)",
      "\u001b[1;32m<ipython-input-113-0ad4d3cb6953>\u001b[0m in \u001b[0;36m<module>\u001b[1;34m\u001b[0m\n\u001b[0;32m     18\u001b[0m \u001b[0mrequest\u001b[0m\u001b[1;33m.\u001b[0m\u001b[0madd_header\u001b[0m\u001b[1;33m(\u001b[0m\u001b[1;34m\"X-Naver-Client-Id\"\u001b[0m\u001b[1;33m,\u001b[0m\u001b[0mclient_id\u001b[0m\u001b[1;33m)\u001b[0m\u001b[1;33m\u001b[0m\u001b[1;33m\u001b[0m\u001b[0m\n\u001b[0;32m     19\u001b[0m \u001b[0mrequest\u001b[0m\u001b[1;33m.\u001b[0m\u001b[0madd_header\u001b[0m\u001b[1;33m(\u001b[0m\u001b[1;34m\"X-Naver-Client-Secret\"\u001b[0m\u001b[1;33m,\u001b[0m\u001b[0mclient_secret\u001b[0m\u001b[1;33m)\u001b[0m\u001b[1;33m\u001b[0m\u001b[1;33m\u001b[0m\u001b[0m\n\u001b[1;32m---> 20\u001b[1;33m \u001b[0mresponse\u001b[0m \u001b[1;33m=\u001b[0m \u001b[0murllib\u001b[0m\u001b[1;33m.\u001b[0m\u001b[0mrequest\u001b[0m\u001b[1;33m.\u001b[0m\u001b[0murlopen\u001b[0m\u001b[1;33m(\u001b[0m\u001b[0mrequest\u001b[0m\u001b[1;33m,\u001b[0m \u001b[0mdata\u001b[0m\u001b[1;33m=\u001b[0m\u001b[0mdata\u001b[0m\u001b[1;33m.\u001b[0m\u001b[0mencode\u001b[0m\u001b[1;33m(\u001b[0m\u001b[1;34m\"utf-8\"\u001b[0m\u001b[1;33m)\u001b[0m\u001b[1;33m)\u001b[0m\u001b[1;33m\u001b[0m\u001b[1;33m\u001b[0m\u001b[0m\n\u001b[0m\u001b[0;32m     21\u001b[0m \u001b[0mrescode\u001b[0m \u001b[1;33m=\u001b[0m \u001b[0mresponse\u001b[0m\u001b[1;33m.\u001b[0m\u001b[0mgetcode\u001b[0m\u001b[1;33m(\u001b[0m\u001b[1;33m)\u001b[0m\u001b[1;33m\u001b[0m\u001b[1;33m\u001b[0m\u001b[0m\n\u001b[0;32m     22\u001b[0m \u001b[1;32mif\u001b[0m\u001b[1;33m(\u001b[0m\u001b[0mrescode\u001b[0m\u001b[1;33m==\u001b[0m\u001b[1;36m200\u001b[0m\u001b[1;33m)\u001b[0m\u001b[1;33m:\u001b[0m\u001b[1;33m\u001b[0m\u001b[1;33m\u001b[0m\u001b[0m\n",
      "\u001b[1;32mc:\\Users\\subin\\Anaconda3\\lib\\urllib\\request.py\u001b[0m in \u001b[0;36murlopen\u001b[1;34m(url, data, timeout, cafile, capath, cadefault, context)\u001b[0m\n\u001b[0;32m    220\u001b[0m     \u001b[1;32melse\u001b[0m\u001b[1;33m:\u001b[0m\u001b[1;33m\u001b[0m\u001b[1;33m\u001b[0m\u001b[0m\n\u001b[0;32m    221\u001b[0m         \u001b[0mopener\u001b[0m \u001b[1;33m=\u001b[0m \u001b[0m_opener\u001b[0m\u001b[1;33m\u001b[0m\u001b[1;33m\u001b[0m\u001b[0m\n\u001b[1;32m--> 222\u001b[1;33m     \u001b[1;32mreturn\u001b[0m \u001b[0mopener\u001b[0m\u001b[1;33m.\u001b[0m\u001b[0mopen\u001b[0m\u001b[1;33m(\u001b[0m\u001b[0murl\u001b[0m\u001b[1;33m,\u001b[0m \u001b[0mdata\u001b[0m\u001b[1;33m,\u001b[0m \u001b[0mtimeout\u001b[0m\u001b[1;33m)\u001b[0m\u001b[1;33m\u001b[0m\u001b[1;33m\u001b[0m\u001b[0m\n\u001b[0m\u001b[0;32m    223\u001b[0m \u001b[1;33m\u001b[0m\u001b[0m\n\u001b[0;32m    224\u001b[0m \u001b[1;32mdef\u001b[0m \u001b[0minstall_opener\u001b[0m\u001b[1;33m(\u001b[0m\u001b[0mopener\u001b[0m\u001b[1;33m)\u001b[0m\u001b[1;33m:\u001b[0m\u001b[1;33m\u001b[0m\u001b[1;33m\u001b[0m\u001b[0m\n",
      "\u001b[1;32mc:\\Users\\subin\\Anaconda3\\lib\\urllib\\request.py\u001b[0m in \u001b[0;36mopen\u001b[1;34m(self, fullurl, data, timeout)\u001b[0m\n\u001b[0;32m    529\u001b[0m         \u001b[1;32mfor\u001b[0m \u001b[0mprocessor\u001b[0m \u001b[1;32min\u001b[0m \u001b[0mself\u001b[0m\u001b[1;33m.\u001b[0m\u001b[0mprocess_response\u001b[0m\u001b[1;33m.\u001b[0m\u001b[0mget\u001b[0m\u001b[1;33m(\u001b[0m\u001b[0mprotocol\u001b[0m\u001b[1;33m,\u001b[0m \u001b[1;33m[\u001b[0m\u001b[1;33m]\u001b[0m\u001b[1;33m)\u001b[0m\u001b[1;33m:\u001b[0m\u001b[1;33m\u001b[0m\u001b[1;33m\u001b[0m\u001b[0m\n\u001b[0;32m    530\u001b[0m             \u001b[0mmeth\u001b[0m \u001b[1;33m=\u001b[0m \u001b[0mgetattr\u001b[0m\u001b[1;33m(\u001b[0m\u001b[0mprocessor\u001b[0m\u001b[1;33m,\u001b[0m \u001b[0mmeth_name\u001b[0m\u001b[1;33m)\u001b[0m\u001b[1;33m\u001b[0m\u001b[1;33m\u001b[0m\u001b[0m\n\u001b[1;32m--> 531\u001b[1;33m             \u001b[0mresponse\u001b[0m \u001b[1;33m=\u001b[0m \u001b[0mmeth\u001b[0m\u001b[1;33m(\u001b[0m\u001b[0mreq\u001b[0m\u001b[1;33m,\u001b[0m \u001b[0mresponse\u001b[0m\u001b[1;33m)\u001b[0m\u001b[1;33m\u001b[0m\u001b[1;33m\u001b[0m\u001b[0m\n\u001b[0m\u001b[0;32m    532\u001b[0m \u001b[1;33m\u001b[0m\u001b[0m\n\u001b[0;32m    533\u001b[0m         \u001b[1;32mreturn\u001b[0m \u001b[0mresponse\u001b[0m\u001b[1;33m\u001b[0m\u001b[1;33m\u001b[0m\u001b[0m\n",
      "\u001b[1;32mc:\\Users\\subin\\Anaconda3\\lib\\urllib\\request.py\u001b[0m in \u001b[0;36mhttp_response\u001b[1;34m(self, request, response)\u001b[0m\n\u001b[0;32m    638\u001b[0m         \u001b[1;31m# request was successfully received, understood, and accepted.\u001b[0m\u001b[1;33m\u001b[0m\u001b[1;33m\u001b[0m\u001b[1;33m\u001b[0m\u001b[0m\n\u001b[0;32m    639\u001b[0m         \u001b[1;32mif\u001b[0m \u001b[1;32mnot\u001b[0m \u001b[1;33m(\u001b[0m\u001b[1;36m200\u001b[0m \u001b[1;33m<=\u001b[0m \u001b[0mcode\u001b[0m \u001b[1;33m<\u001b[0m \u001b[1;36m300\u001b[0m\u001b[1;33m)\u001b[0m\u001b[1;33m:\u001b[0m\u001b[1;33m\u001b[0m\u001b[1;33m\u001b[0m\u001b[0m\n\u001b[1;32m--> 640\u001b[1;33m             response = self.parent.error(\n\u001b[0m\u001b[0;32m    641\u001b[0m                 'http', request, response, code, msg, hdrs)\n\u001b[0;32m    642\u001b[0m \u001b[1;33m\u001b[0m\u001b[0m\n",
      "\u001b[1;32mc:\\Users\\subin\\Anaconda3\\lib\\urllib\\request.py\u001b[0m in \u001b[0;36merror\u001b[1;34m(self, proto, *args)\u001b[0m\n\u001b[0;32m    567\u001b[0m         \u001b[1;32mif\u001b[0m \u001b[0mhttp_err\u001b[0m\u001b[1;33m:\u001b[0m\u001b[1;33m\u001b[0m\u001b[1;33m\u001b[0m\u001b[0m\n\u001b[0;32m    568\u001b[0m             \u001b[0margs\u001b[0m \u001b[1;33m=\u001b[0m \u001b[1;33m(\u001b[0m\u001b[0mdict\u001b[0m\u001b[1;33m,\u001b[0m \u001b[1;34m'default'\u001b[0m\u001b[1;33m,\u001b[0m \u001b[1;34m'http_error_default'\u001b[0m\u001b[1;33m)\u001b[0m \u001b[1;33m+\u001b[0m \u001b[0morig_args\u001b[0m\u001b[1;33m\u001b[0m\u001b[1;33m\u001b[0m\u001b[0m\n\u001b[1;32m--> 569\u001b[1;33m             \u001b[1;32mreturn\u001b[0m \u001b[0mself\u001b[0m\u001b[1;33m.\u001b[0m\u001b[0m_call_chain\u001b[0m\u001b[1;33m(\u001b[0m\u001b[1;33m*\u001b[0m\u001b[0margs\u001b[0m\u001b[1;33m)\u001b[0m\u001b[1;33m\u001b[0m\u001b[1;33m\u001b[0m\u001b[0m\n\u001b[0m\u001b[0;32m    570\u001b[0m \u001b[1;33m\u001b[0m\u001b[0m\n\u001b[0;32m    571\u001b[0m \u001b[1;31m# XXX probably also want an abstract factory that knows when it makes\u001b[0m\u001b[1;33m\u001b[0m\u001b[1;33m\u001b[0m\u001b[1;33m\u001b[0m\u001b[0m\n",
      "\u001b[1;32mc:\\Users\\subin\\Anaconda3\\lib\\urllib\\request.py\u001b[0m in \u001b[0;36m_call_chain\u001b[1;34m(self, chain, kind, meth_name, *args)\u001b[0m\n\u001b[0;32m    500\u001b[0m         \u001b[1;32mfor\u001b[0m \u001b[0mhandler\u001b[0m \u001b[1;32min\u001b[0m \u001b[0mhandlers\u001b[0m\u001b[1;33m:\u001b[0m\u001b[1;33m\u001b[0m\u001b[1;33m\u001b[0m\u001b[0m\n\u001b[0;32m    501\u001b[0m             \u001b[0mfunc\u001b[0m \u001b[1;33m=\u001b[0m \u001b[0mgetattr\u001b[0m\u001b[1;33m(\u001b[0m\u001b[0mhandler\u001b[0m\u001b[1;33m,\u001b[0m \u001b[0mmeth_name\u001b[0m\u001b[1;33m)\u001b[0m\u001b[1;33m\u001b[0m\u001b[1;33m\u001b[0m\u001b[0m\n\u001b[1;32m--> 502\u001b[1;33m             \u001b[0mresult\u001b[0m \u001b[1;33m=\u001b[0m \u001b[0mfunc\u001b[0m\u001b[1;33m(\u001b[0m\u001b[1;33m*\u001b[0m\u001b[0margs\u001b[0m\u001b[1;33m)\u001b[0m\u001b[1;33m\u001b[0m\u001b[1;33m\u001b[0m\u001b[0m\n\u001b[0m\u001b[0;32m    503\u001b[0m             \u001b[1;32mif\u001b[0m \u001b[0mresult\u001b[0m \u001b[1;32mis\u001b[0m \u001b[1;32mnot\u001b[0m \u001b[1;32mNone\u001b[0m\u001b[1;33m:\u001b[0m\u001b[1;33m\u001b[0m\u001b[1;33m\u001b[0m\u001b[0m\n\u001b[0;32m    504\u001b[0m                 \u001b[1;32mreturn\u001b[0m \u001b[0mresult\u001b[0m\u001b[1;33m\u001b[0m\u001b[1;33m\u001b[0m\u001b[0m\n",
      "\u001b[1;32mc:\\Users\\subin\\Anaconda3\\lib\\urllib\\request.py\u001b[0m in \u001b[0;36mhttp_error_default\u001b[1;34m(self, req, fp, code, msg, hdrs)\u001b[0m\n\u001b[0;32m    647\u001b[0m \u001b[1;32mclass\u001b[0m \u001b[0mHTTPDefaultErrorHandler\u001b[0m\u001b[1;33m(\u001b[0m\u001b[0mBaseHandler\u001b[0m\u001b[1;33m)\u001b[0m\u001b[1;33m:\u001b[0m\u001b[1;33m\u001b[0m\u001b[1;33m\u001b[0m\u001b[0m\n\u001b[0;32m    648\u001b[0m     \u001b[1;32mdef\u001b[0m \u001b[0mhttp_error_default\u001b[0m\u001b[1;33m(\u001b[0m\u001b[0mself\u001b[0m\u001b[1;33m,\u001b[0m \u001b[0mreq\u001b[0m\u001b[1;33m,\u001b[0m \u001b[0mfp\u001b[0m\u001b[1;33m,\u001b[0m \u001b[0mcode\u001b[0m\u001b[1;33m,\u001b[0m \u001b[0mmsg\u001b[0m\u001b[1;33m,\u001b[0m \u001b[0mhdrs\u001b[0m\u001b[1;33m)\u001b[0m\u001b[1;33m:\u001b[0m\u001b[1;33m\u001b[0m\u001b[1;33m\u001b[0m\u001b[0m\n\u001b[1;32m--> 649\u001b[1;33m         \u001b[1;32mraise\u001b[0m \u001b[0mHTTPError\u001b[0m\u001b[1;33m(\u001b[0m\u001b[0mreq\u001b[0m\u001b[1;33m.\u001b[0m\u001b[0mfull_url\u001b[0m\u001b[1;33m,\u001b[0m \u001b[0mcode\u001b[0m\u001b[1;33m,\u001b[0m \u001b[0mmsg\u001b[0m\u001b[1;33m,\u001b[0m \u001b[0mhdrs\u001b[0m\u001b[1;33m,\u001b[0m \u001b[0mfp\u001b[0m\u001b[1;33m)\u001b[0m\u001b[1;33m\u001b[0m\u001b[1;33m\u001b[0m\u001b[0m\n\u001b[0m\u001b[0;32m    650\u001b[0m \u001b[1;33m\u001b[0m\u001b[0m\n\u001b[0;32m    651\u001b[0m \u001b[1;32mclass\u001b[0m \u001b[0mHTTPRedirectHandler\u001b[0m\u001b[1;33m(\u001b[0m\u001b[0mBaseHandler\u001b[0m\u001b[1;33m)\u001b[0m\u001b[1;33m:\u001b[0m\u001b[1;33m\u001b[0m\u001b[1;33m\u001b[0m\u001b[0m\n",
      "\u001b[1;31mHTTPError\u001b[0m: HTTP Error 400: Bad Request"
     ]
    }
   ],
   "source": [
    "import os\n",
    "import sys\n",
    "import urllib.request\n",
    "import json\n",
    "client_id = \"qRRDuul_fIUg_jytEypx\" \n",
    "client_secret = \"eMUZEK5G_1\" \n",
    "fileName = 'C:/PYTHON/G_ML/해커톤/data/text.txt'\n",
    "\n",
    "#번역할 메모장 불러오기\n",
    "with open(fileName,'r',encoding='utf8') as f:\n",
    "    srcText = f.read()\n",
    "\n",
    "encText = urllib.parse.quote(srcText)\n",
    "# data = \"source=ko&target=en&text=\" + encText\n",
    "data = \"source=ko&target=en&text=%s\"%urllib.parse.quote(srcText)\n",
    "url = \"https://openapi.naver.com/v1/papago/n2mt\"\n",
    "request = urllib.request.Request(url)\n",
    "request.add_header(\"X-Naver-Client-Id\",client_id)\n",
    "request.add_header(\"X-Naver-Client-Secret\",client_secret)\n",
    "response = urllib.request.urlopen(request, data=data.encode(\"utf-8\"))\n",
    "rescode = response.getcode()\n",
    "if(rescode==200):\n",
    "    response_body = response.read()\n",
    "    # print(response_body.decode('utf-8'))\n",
    "\n",
    "    #json 형 변환\n",
    "    res = json.loads(response_body.decode('utf-8'))\n",
    "    from pprint import pprint\n",
    "    pprint(res)\n",
    "\n",
    "    #파일 생성\n",
    "    with open('translate.txt', 'w',encoding='utf8') as f:\n",
    "        f.write(res['message']['result']['translatedText'])\n",
    "\n",
    "else:\n",
    "    print(\"Error Code:\" + rescode)"
   ]
  },
  {
   "cell_type": "markdown",
   "metadata": {},
   "source": [
    "## 문제점3\n",
    "> HTTPError: HTTP Error 400: Bad Request 를 구글링 해본 결과 왜 오류가 발생했는지 답을 못찾음\n",
    "\n",
    "    ---> 포기"
   ]
  }
 ],
 "metadata": {
  "kernelspec": {
   "display_name": "Python 3.8.8 ('base')",
   "language": "python",
   "name": "python3"
  },
  "language_info": {
   "codemirror_mode": {
    "name": "ipython",
    "version": 3
   },
   "file_extension": ".py",
   "mimetype": "text/x-python",
   "name": "python",
   "nbconvert_exporter": "python",
   "pygments_lexer": "ipython3",
   "version": "3.8.8"
  },
  "orig_nbformat": 4,
  "vscode": {
   "interpreter": {
    "hash": "bb818233b7b178884264e8dd05094efd4a6668b508f3d13c74764f741e7879a4"
   }
  }
 },
 "nbformat": 4,
 "nbformat_minor": 2
}
