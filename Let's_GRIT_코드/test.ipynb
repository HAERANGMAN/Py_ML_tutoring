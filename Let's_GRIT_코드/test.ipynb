{
 "cells": [
  {
   "cell_type": "markdown",
   "metadata": {},
   "source": [
    "This is an H1\n",
    "============="
   ]
  },
  {
   "cell_type": "markdown",
   "metadata": {},
   "source": [
    "# This is a H1\n",
    "## This is a H2\n",
    "### This is a H3\n",
    "#### This is a H4\n",
    "##### This is a H5\n",
    "###### This is a H6"
   ]
  },
  {
   "cell_type": "markdown",
   "metadata": {},
   "source": [
    "줄 바꾸는 방법은 라인의 마지막에 공백 두 칸을 추가  \n",
    "그럼 줄바꿈이 됩니다."
   ]
  },
  {
   "cell_type": "markdown",
   "metadata": {},
   "source": [
    "* 순서가 없는 목록1\n",
    "  + 순서 없는 목록1-1\n",
    "  + 순서 없는 목록1-2\n",
    "    - 순서 없는 목록1-2-1\n",
    "* 순서가 없는 목록2\n",
    "  * 순서가 없는 목록2-1\n",
    "* 순서가 없는 목록3\n",
    "cxvxcv"
   ]
  },
  {
   "cell_type": "markdown",
   "metadata": {},
   "source": [
    "dfdfdff\n",
    "```\n",
    "public class BootSpringBootApplication {\n",
    "  public static void main(String[] args) {\n",
    "    System.out.println(\"Hello, Honeymon\");\n",
    "  }\n",
    "}\n",
    "```"
   ]
  },
  {
   "cell_type": "markdown",
   "metadata": {},
   "source": [
    "---\n",
    "dfdfdfdfdfdfdf\n"
   ]
  },
  {
   "cell_type": "markdown",
   "metadata": {},
   "source": [
    "[내가 퍼온 곳](https://google.com, \"google link\")"
   ]
  },
  {
   "cell_type": "markdown",
   "metadata": {},
   "source": [
    "<https://google.com/>"
   ]
  },
  {
   "cell_type": "markdown",
   "metadata": {},
   "source": [
    "https://google.com"
   ]
  },
  {
   "cell_type": "markdown",
   "metadata": {},
   "source": [
    "동~~해물~~과 백두산*이*"
   ]
  },
  {
   "cell_type": "markdown",
   "metadata": {},
   "source": [
    "`ㅇㄹㅇㄹㅇㄹ`"
   ]
  },
  {
   "cell_type": "markdown",
   "metadata": {},
   "source": []
  }
 ],
 "metadata": {
  "kernelspec": {
   "display_name": "Python 3.8.8 ('base')",
   "language": "python",
   "name": "python3"
  },
  "language_info": {
   "name": "python",
   "version": "3.8.8"
  },
  "orig_nbformat": 4,
  "vscode": {
   "interpreter": {
    "hash": "bb818233b7b178884264e8dd05094efd4a6668b508f3d13c74764f741e7879a4"
   }
  }
 },
 "nbformat": 4,
 "nbformat_minor": 2
}
