{
 "cells": [
  {
   "cell_type": "code",
   "execution_count": 11,
   "metadata": {},
   "outputs": [
    {
     "ename": "NameError",
     "evalue": "name 'model' is not defined",
     "output_type": "error",
     "traceback": [
      "\u001b[1;31m---------------------------------------------------------------------------\u001b[0m",
      "\u001b[1;31mNameError\u001b[0m                                 Traceback (most recent call last)",
      "\u001b[1;32mc:\\Users\\abcra\\OneDrive\\빅데이터자료\\튜터링\\3가지_코드\\prophet.ipynb Cell 1\u001b[0m in \u001b[0;36m<module>\u001b[1;34m\u001b[0m\n\u001b[0;32m      <a href='vscode-notebook-cell:/c%3A/Users/abcra/OneDrive/%EB%B9%85%EB%8D%B0%EC%9D%B4%ED%84%B0%EC%9E%90%EB%A3%8C/%ED%8A%9C%ED%84%B0%EB%A7%81/3%EA%B0%80%EC%A7%80_%EC%BD%94%EB%93%9C/prophet.ipynb#ch0000000?line=8'>9</a>\u001b[0m \u001b[39m# 시각화를 위해 일자를 날짜형으로 변환\u001b[39;00m\n\u001b[0;32m     <a href='vscode-notebook-cell:/c%3A/Users/abcra/OneDrive/%EB%B9%85%EB%8D%B0%EC%9D%B4%ED%84%B0%EC%9E%90%EB%A3%8C/%ED%8A%9C%ED%84%B0%EB%A7%81/3%EA%B0%80%EC%A7%80_%EC%BD%94%EB%93%9C/prophet.ipynb#ch0000000?line=9'>10</a>\u001b[0m df[\u001b[39m'\u001b[39m\u001b[39m일자\u001b[39m\u001b[39m'\u001b[39m] \u001b[39m=\u001b[39m pd\u001b[39m.\u001b[39mto_datetime(df[\u001b[39m'\u001b[39m\u001b[39m일자\u001b[39m\u001b[39m'\u001b[39m], \u001b[39mformat\u001b[39m\u001b[39m=\u001b[39m\u001b[39m'\u001b[39m\u001b[39m%\u001b[39m\u001b[39mY-\u001b[39m\u001b[39m%\u001b[39m\u001b[39mm-\u001b[39m\u001b[39m%d\u001b[39;00m\u001b[39m'\u001b[39m)\n\u001b[1;32m---> <a href='vscode-notebook-cell:/c%3A/Users/abcra/OneDrive/%EB%B9%85%EB%8D%B0%EC%9D%B4%ED%84%B0%EC%9E%90%EB%A3%8C/%ED%8A%9C%ED%84%B0%EB%A7%81/3%EA%B0%80%EC%A7%80_%EC%BD%94%EB%93%9C/prophet.ipynb#ch0000000?line=11'>12</a>\u001b[0m model\u001b[39m.\u001b[39mplot(forecast)\n\u001b[0;32m     <a href='vscode-notebook-cell:/c%3A/Users/abcra/OneDrive/%EB%B9%85%EB%8D%B0%EC%9D%B4%ED%84%B0%EC%9E%90%EB%A3%8C/%ED%8A%9C%ED%84%B0%EB%A7%81/3%EA%B0%80%EC%A7%80_%EC%BD%94%EB%93%9C/prophet.ipynb#ch0000000?line=12'>13</a>\u001b[0m pyplot\u001b[39m.\u001b[39mshow()\n",
      "\u001b[1;31mNameError\u001b[0m: name 'model' is not defined"
     ]
    }
   ],
   "source": [
    "import pandas as pd\n",
    "import numpy as np\n",
    "import matplotlib.pyplot as plt\n",
    "import seaborn as sns\n",
    "from matplotlib import pyplot\n",
    "\n",
    "df = pd.read_csv('./KODEX200_220624_20220726.csv', encoding = 'CP949')\n",
    "\n",
    "# 시각화를 위해 일자를 날짜형으로 변환\n",
    "df['일자'] = pd.to_datetime(df['일자'], format='%Y-%m-%d')\n",
    "\n",
    "model.plot(forecast)\n",
    "pyplot.show()\n",
    "\n"
   ]
  },
  {
   "cell_type": "code",
   "execution_count": 37,
   "metadata": {},
   "outputs": [
    {
     "name": "stdout",
     "output_type": "stream",
     "text": [
      "          ds          yhat    yhat_lower    yhat_upper\n",
      "0 2022-07-25  32124.100008  31775.399872  32451.673317\n",
      "1 2022-07-26  32286.112604  31954.664828  32607.107000\n",
      "2 2022-07-27  32191.347713  31871.026325  32535.393355\n",
      "3 2022-07-28  32340.812512  32019.396310  32697.309902\n",
      "4 2022-07-29  32311.334930  31980.735683  32642.493368\n"
     ]
    }
   ],
   "source": [
    "print(forecast[['ds', 'yhat', 'yhat_lower', 'yhat_upper']].head())"
   ]
  },
  {
   "cell_type": "code",
   "execution_count": 38,
   "metadata": {},
   "outputs": [
    {
     "data": {
      "image/png": "[encoded data removed]",
      "text/plain": [
       "<Figure size 720x432 with 1 Axes>"
      ]
     },
     "metadata": {},
     "output_type": "display_data"
    }
   ],
   "source": [
    "from matplotlib import pyplot\n",
    "\n",
    "\n",
    "model.plot(forecast)\n",
    "pyplot.show()"
   ]
  },
  {
   "cell_type": "code",
   "execution_count": null,
   "metadata": {},
   "outputs": [],
   "source": [
    "# 전체 종목 일 평균 변화율 plot\n",
    "change = df.Change\n",
    "change.iloc[:] = 0\n",
    "change\n",
    "for c in tqdm_notebook(list(stock_list['종목코드'])):\n",
    "    # 녹십자셀 -> 지씨셀\n",
    "    if c == '031390':\n",
    "        c = \"144510\"\n",
    "        \n",
    "    st = fdr.DataReader(str(c), start=fst_day, end=fend_day)\n",
    "    change[:] += st.Change\n",
    "plt.figure(figsize=(32,8))\n",
    "plt.plot(change/370)\n",
    "plt.show()"
   ]
  },
  {
   "cell_type": "code",
   "execution_count": 115,
   "metadata": {},
   "outputs": [
    {
     "ename": "AttributeError",
     "evalue": "module 'pandas' has no attribute 'read'",
     "output_type": "error",
     "traceback": [
      "\u001b[1;31m---------------------------------------------------------------------------\u001b[0m",
      "\u001b[1;31mAttributeError\u001b[0m                            Traceback (most recent call last)",
      "\u001b[1;32mc:\\Users\\HaeBin\\Desktop\\code\\해커톤\\prophet.ipynb 셀 25\u001b[0m in \u001b[0;36m<cell line: 6>\u001b[1;34m()\u001b[0m\n\u001b[0;32m      <a href='vscode-notebook-cell:/c%3A/Users/HaeBin/Desktop/code/%ED%95%B4%EC%BB%A4%ED%86%A4/prophet.ipynb#ch0000028?line=3'>4</a>\u001b[0m end \u001b[39m=\u001b[39m \u001b[39m'\u001b[39m\u001b[39m2022-07-23\u001b[39m\u001b[39m'\u001b[39m\n\u001b[0;32m      <a href='vscode-notebook-cell:/c%3A/Users/HaeBin/Desktop/code/%ED%95%B4%EC%BB%A4%ED%86%A4/prophet.ipynb#ch0000028?line=4'>5</a>\u001b[0m ticker \u001b[39m=\u001b[39m \u001b[39m'\u001b[39m\u001b[39mLAC\u001b[39m\u001b[39m'\u001b[39m\n\u001b[1;32m----> <a href='vscode-notebook-cell:/c%3A/Users/HaeBin/Desktop/code/%ED%95%B4%EC%BB%A4%ED%86%A4/prophet.ipynb#ch0000028?line=5'>6</a>\u001b[0m df \u001b[39m=\u001b[39m pd\u001b[39m.\u001b[39;49mread\u001b[39m.\u001b[39mcsv(\u001b[39m'\u001b[39m\u001b[39m../해커톤/KODEX200_220624_20220726.csv\u001b[39m\u001b[39m'\u001b[39m)\n\u001b[0;32m      <a href='vscode-notebook-cell:/c%3A/Users/HaeBin/Desktop/code/%ED%95%B4%EC%BB%A4%ED%86%A4/prophet.ipynb#ch0000028?line=7'>8</a>\u001b[0m \u001b[39m# Prophet Inputs: ds(날짜), y(주가데이터)\u001b[39;00m\n\u001b[0;32m      <a href='vscode-notebook-cell:/c%3A/Users/HaeBin/Desktop/code/%ED%95%B4%EC%BB%A4%ED%86%A4/prophet.ipynb#ch0000028?line=8'>9</a>\u001b[0m df[\u001b[39m'\u001b[39m\u001b[39mds\u001b[39m\u001b[39m'\u001b[39m] \u001b[39m=\u001b[39m pd\u001b[39m.\u001b[39mto_datetime(df\u001b[39m.\u001b[39mindex, \u001b[39mformat\u001b[39m\u001b[39m=\u001b[39m\u001b[39m'\u001b[39m\u001b[39m%\u001b[39m\u001b[39mY-\u001b[39m\u001b[39m%\u001b[39m\u001b[39mm-\u001b[39m\u001b[39m%d\u001b[39;00m\u001b[39m'\u001b[39m)\n",
      "File \u001b[1;32mc:\\Users\\HaeBin\\AppData\\Local\\Programs\\Python\\Python310\\lib\\site-packages\\pandas\\__init__.py:261\u001b[0m, in \u001b[0;36m__getattr__\u001b[1;34m(name)\u001b[0m\n\u001b[0;32m    257\u001b[0m     \u001b[39mfrom\u001b[39;00m \u001b[39mpandas\u001b[39;00m\u001b[39m.\u001b[39;00m\u001b[39mcore\u001b[39;00m\u001b[39m.\u001b[39;00m\u001b[39marrays\u001b[39;00m\u001b[39m.\u001b[39;00m\u001b[39msparse\u001b[39;00m \u001b[39mimport\u001b[39;00m SparseArray \u001b[39mas\u001b[39;00m _SparseArray\n\u001b[0;32m    259\u001b[0m     \u001b[39mreturn\u001b[39;00m _SparseArray\n\u001b[1;32m--> 261\u001b[0m \u001b[39mraise\u001b[39;00m \u001b[39mAttributeError\u001b[39;00m(\u001b[39mf\u001b[39m\u001b[39m\"\u001b[39m\u001b[39mmodule \u001b[39m\u001b[39m'\u001b[39m\u001b[39mpandas\u001b[39m\u001b[39m'\u001b[39m\u001b[39m has no attribute \u001b[39m\u001b[39m'\u001b[39m\u001b[39m{\u001b[39;00mname\u001b[39m}\u001b[39;00m\u001b[39m'\u001b[39m\u001b[39m\"\u001b[39m)\n",
      "\u001b[1;31mAttributeError\u001b[0m: module 'pandas' has no attribute 'read'"
     ]
    }
   ],
   "source": [
    "import pandas as pd\n",
    "\n",
    "start = '2022-06-24'\n",
    "end = '2022-07-23'\n",
    "ticker = 'LAC'\n",
    "df = pd.read.csv('../해커톤/KODEX200_220624_20220726.csv')\n",
    "\n",
    "# Prophet Inputs: ds(날짜), y(주가데이터)\n",
    "df['ds'] = pd.to_datetime(df.index, format='%Y-%m-%d')\n",
    "df['y'] = df['종가']\n",
    "df = df[['ds','y']]\n",
    "print(df)"
   ]
  },
  {
   "cell_type": "code",
   "execution_count": null,
   "metadata": {},
   "outputs": [],
   "source": [
    "future = m.make_future_dataframe(periods=30)\n",
    "future.tail()"
   ]
  }
 ],
 "metadata": {
  "kernelspec": {
   "display_name": "Python 3.10.5 64-bit",
   "language": "python",
   "name": "python3"
  },
  "language_info": {
   "codemirror_mode": {
    "name": "ipython",
    "version": 3
   },
   "file_extension": ".py",
   "mimetype": "text/x-python",
   "name": "python",
   "nbconvert_exporter": "python",
   "pygments_lexer": "ipython3",
   "version": "3.10.5"
  },
  "orig_nbformat": 4,
  "vscode": {
   "interpreter": {
    "hash": "ca29a66e22b04072d9e22de8c3aa420888d2f23876969dfa5180fe282aec19a1"
   }
  }
 },
 "nbformat": 4,
 "nbformat_minor": 2
}
