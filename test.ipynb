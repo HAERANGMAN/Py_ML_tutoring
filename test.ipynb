{
 "cells": [
  {
   "cell_type": "code",
   "execution_count": null,
   "metadata": {},
   "outputs": [],
   "source": [
    "1.0\n",
    "=============\n",
    "2.0\n",
    "============="
   ]
  }
 ],
 "metadata": {
  "kernelspec": {
   "display_name": "Python 3.10.5 64-bit",
   "language": "python",
   "name": "python3"
  },
  "language_info": {
   "name": "python",
   "version": "3.10.5"
  },
  "orig_nbformat": 4,
  "vscode": {
   "interpreter": {
    "hash": "ca29a66e22b04072d9e22de8c3aa420888d2f23876969dfa5180fe282aec19a1"
   }
  }
 },
 "nbformat": 4,
 "nbformat_minor": 2
}
